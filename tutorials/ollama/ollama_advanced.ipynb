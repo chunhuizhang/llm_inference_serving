{
 "cells": [
  {
   "cell_type": "markdown",
   "id": "df48b339-a234-4589-a500-54f8f896c5f5",
   "metadata": {},
   "source": [
    "### custom Modelfile"
   ]
  },
  {
   "cell_type": "markdown",
   "id": "ccbe2c8b-fb88-49bd-8506-c636fca1a6b1",
   "metadata": {},
   "source": [
    "- 以 deepseek-r1:1.5b 为例，我们想强制其不思考，需要重新设计 tempalte\n",
    "\n",
    "```\n",
    "FROM deepseek-r1:1.5b\n",
    "\n",
    "TEMPLATE \"\"\"{{- if .System }}{{ .System }}{{ end }}\n",
    "{{- range $i, $_ := .Messages }}\n",
    "{{- $last := eq (len (slice $.Messages $i)) 1}}\n",
    "{{- if eq .Role \"user\" }}<｜User｜>{{ .Content }}\n",
    "{{- else if eq .Role \"assistant\" }}<｜Assistant｜>{{ .Content }}{{- if not $last }}<｜end▁of▁sentence｜>{{- end }}\n",
    "{{- end }}\n",
    "{{- if and $last (ne .Role \"assistant\") }}<｜Assistant｜><think>\n",
    "我会直接输出答案。\n",
    "</think>{{- end }}\n",
    "{{- end }}\n",
    "\"\"\n",
    "```\n",
    "\n",
    "- `ollama create r1-1.5b-nothink -f nothink`\n",
    "- `ollama run r1-1.5b-nothink`"
   ]
  }
 ],
 "metadata": {
  "kernelspec": {
   "display_name": "casual",
   "language": "python",
   "name": "casual"
  },
  "language_info": {
   "codemirror_mode": {
    "name": "ipython",
    "version": 3
   },
   "file_extension": ".py",
   "mimetype": "text/x-python",
   "name": "python",
   "nbconvert_exporter": "python",
   "pygments_lexer": "ipython3",
   "version": "3.10.0"
  }
 },
 "nbformat": 4,
 "nbformat_minor": 5
}
