{
 "cells": [
  {
   "cell_type": "markdown",
   "id": "d9404b86-02e3-4231-aea2-8ea1d6d6861a",
   "metadata": {},
   "source": [
    "```\n",
    "# --verbose\n",
    "ollama run deepseek-r1:1.5b --verbose\n",
    "\n",
    "# 跟 docker 的操作很类似\n",
    "# 当 vram 不足时，会自动负载到 cpu：查看 PROCESSOR 字段（cpu/gpu 的负载比例）\n",
    "ollama ps\n",
    "\n",
    "\n",
    "ollama ls\n",
    "ollama rm model_name\n",
    "```"
   ]
  },
  {
   "cell_type": "markdown",
   "id": "f1e927af-f67e-4fab-9f41-9077a4126d47",
   "metadata": {},
   "source": [
    "### ollama 安装与配置"
   ]
  },
  {
   "cell_type": "markdown",
   "id": "e845cef1",
   "metadata": {},
   "source": [
    "- references\n",
    "    - https://ollama.com/\n",
    "    - https://ollama.com/download\n",
    "        - 下载与安装\n",
    "        - `curl -fsSL https://ollama.com/install.sh | sh`\n",
    "    - https://ollama.com/library"
   ]
  },
  {
   "cell_type": "markdown",
   "id": "16fe5baa",
   "metadata": {},
   "source": [
    "- models\n",
    "    - Linux 默认下载地址：`/usr/share/ollama/.ollama/models`\n",
    "        - `OLLAMA_MODLES`：环境变量配置；\n",
    "    - mistral\n",
    "        - `ollama run mistral`\n",
    "    - llama\n",
    "        - `ollama run llama2`\n",
    "        - `ollama run llama2-uncensored`\n",
    "            - 退出：`/bye`\n",
    "- `ollama list`\n",
    "- `ollama serve`:\n",
    "    - `127.0.0.1:11434`\n",
    "    - `sudo systemctl status ollama.service`: 查看服务状态\n",
    "        - 下载安装之后默认是开机自动启动的？\n",
    "        - 禁用 Ollama 的开机自启动：`sudo systemctl disable ollama.service`\n",
    "    - `sudo systemctl stop ollama.service`: 停止 Ollama 服务："
   ]
  },
  {
   "cell_type": "markdown",
   "id": "4434ba72",
   "metadata": {
    "ExecuteTime": {
     "end_time": "2024-02-24T02:28:24.846004Z",
     "start_time": "2024-02-24T02:28:24.827390Z"
    }
   },
   "source": [
    "- 退出\n",
    "    - /bye\n",
    "    - /exit"
   ]
  },
  {
   "cell_type": "markdown",
   "id": "4bd47fdf-be3f-4b0e-9842-10268de783a0",
   "metadata": {},
   "source": [
    "### api"
   ]
  },
  {
   "cell_type": "markdown",
   "id": "b1ff1c0e-9a41-4690-96f5-bce9c31a3835",
   "metadata": {},
   "source": [
    "- `http://localhost:11434`\n",
    "    - `Ollama is running`: check 是否部署和运行\n",
    "- `http://localhost:11434/v1`\n",
    "- `http://127.0.0.1:11434/api/chat`"
   ]
  },
  {
   "cell_type": "markdown",
   "id": "aab5d7de-5478-46f9-972b-d25c2bc225d8",
   "metadata": {},
   "source": [
    "### gpu 资源释放"
   ]
  },
  {
   "cell_type": "markdown",
   "id": "5e8783df-1103-4a22-9489-f131b8e9abdf",
   "metadata": {},
   "source": [
    "在使用 ollama run xx 后，模型会在内存中保留一段时间，以便于快速响应后续请求。默认情况下，这个保留时间为5分钟。如果您希望立即释放 GPU 资源，可以通过设置 keep_alive 参数来控制模型在内存中的保留时间。\n",
    "\n",
    "\n",
    "```\n",
    "curl http://localhost:11434/api/generate -d '{\"model\": \"xx\", \"keep_alive\": 0}'\n",
    "```"
   ]
  },
  {
   "cell_type": "markdown",
   "id": "419dddf9-c93d-41da-93a3-165bd858f819",
   "metadata": {},
   "source": [
    "### 本地部署及推理"
   ]
  },
  {
   "cell_type": "code",
   "execution_count": 1,
   "id": "87938f15-c547-408f-82c6-b095e9e1388d",
   "metadata": {
    "execution": {
     "iopub.execute_input": "2024-12-01T08:12:07.282469Z",
     "iopub.status.busy": "2024-12-01T08:12:07.281793Z",
     "iopub.status.idle": "2024-12-01T08:12:07.842299Z",
     "shell.execute_reply": "2024-12-01T08:12:07.840349Z",
     "shell.execute_reply.started": "2024-12-01T08:12:07.282398Z"
    }
   },
   "outputs": [],
   "source": [
    "from openai import OpenAI"
   ]
  },
  {
   "cell_type": "code",
   "execution_count": 2,
   "id": "21101359-b852-4879-bdf4-9acc7eaa8e58",
   "metadata": {
    "execution": {
     "iopub.execute_input": "2024-12-01T08:13:30.208532Z",
     "iopub.status.busy": "2024-12-01T08:13:30.208070Z",
     "iopub.status.idle": "2024-12-01T08:13:30.236989Z",
     "shell.execute_reply": "2024-12-01T08:13:30.234918Z",
     "shell.execute_reply.started": "2024-12-01T08:13:30.208505Z"
    }
   },
   "outputs": [],
   "source": [
    "client = OpenAI(\n",
    "    base_url='http://localhost:11434/v1',\n",
    "    api_key='ollama'  # required but unused\n",
    ")\n",
    "model = 'llama3.1'"
   ]
  },
  {
   "cell_type": "code",
   "execution_count": 6,
   "id": "f0f645b5-cf75-42ca-8528-733a99d148cd",
   "metadata": {
    "execution": {
     "iopub.execute_input": "2024-12-01T08:15:15.596465Z",
     "iopub.status.busy": "2024-12-01T08:15:15.595849Z",
     "iopub.status.idle": "2024-12-01T08:15:15.604544Z",
     "shell.execute_reply": "2024-12-01T08:15:15.602582Z",
     "shell.execute_reply.started": "2024-12-01T08:15:15.596419Z"
    }
   },
   "outputs": [],
   "source": [
    "messages = []"
   ]
  },
  {
   "cell_type": "code",
   "execution_count": 7,
   "id": "9b02159b-4347-4f89-8300-8e1bec353c2f",
   "metadata": {
    "execution": {
     "iopub.execute_input": "2024-12-01T08:15:17.218108Z",
     "iopub.status.busy": "2024-12-01T08:15:17.217467Z",
     "iopub.status.idle": "2024-12-01T08:15:17.227277Z",
     "shell.execute_reply": "2024-12-01T08:15:17.225220Z",
     "shell.execute_reply.started": "2024-12-01T08:15:17.218063Z"
    }
   },
   "outputs": [],
   "source": [
    "messages.append({\"role\": \"system\", \"content\": 'You are a helpful assistant.'})\n",
    "messages.append({\"role\": \"user\", \"content\": \"什么是机器学习？\"})"
   ]
  },
  {
   "cell_type": "code",
   "execution_count": 8,
   "id": "5f4f4dcc-dfc6-45ca-8b32-0492dbec3892",
   "metadata": {
    "execution": {
     "iopub.execute_input": "2024-12-01T08:15:36.157012Z",
     "iopub.status.busy": "2024-12-01T08:15:36.156367Z",
     "iopub.status.idle": "2024-12-01T08:15:39.817373Z",
     "shell.execute_reply": "2024-12-01T08:15:39.815239Z",
     "shell.execute_reply.started": "2024-12-01T08:15:36.156963Z"
    }
   },
   "outputs": [],
   "source": [
    "response = client.chat.completions.create(\n",
    "            model=model,\n",
    "            messages=messages\n",
    "        )"
   ]
  },
  {
   "cell_type": "code",
   "execution_count": 13,
   "id": "d43244ca-9377-48ae-be75-f835f724e734",
   "metadata": {
    "execution": {
     "iopub.execute_input": "2024-12-01T08:16:08.800070Z",
     "iopub.status.busy": "2024-12-01T08:16:08.799418Z",
     "iopub.status.idle": "2024-12-01T08:16:08.809521Z",
     "shell.execute_reply": "2024-12-01T08:16:08.807480Z",
     "shell.execute_reply.started": "2024-12-01T08:16:08.800023Z"
    }
   },
   "outputs": [
    {
     "name": "stdout",
     "output_type": "stream",
     "text": [
      "机器学习是一种人工智能的技术，其基本思想是在计算机系统中模拟人类的大脑，利用算法和数据自主地对事物进行学习和改进。通过机器学习可以让计算机系统能够自动地在特定任务中增加自身的性能能力，不需要不断的程序设计与硬件升级。\n",
      "\n",
      "机器学习一般分为以下几个步骤：\n",
      "\n",
      "1. 数据收集：首先需要收集足够用于训练模型的数据，这些数据需要经过清洗、预处理等操作；\n",
      "\n",
      "2. 特征提取或工程学：从原始数据中抽象出有意义的特征，并将其赋予标签，以供后续模型学习进行分类分析识别等任务。\n",
      "\n",
      "3. 算法选择或者人工设计：选用或者自行设计合适的机器学习算法，这取决于特定的目的、类型和条件\n",
      "\n",
      "4. 模型训练：将收集并提炼好的数据与所选用的机器学习模型结合进行训练，通常需要几个小时也就是几天或者几个星期甚至多个月，从而形成一个能够在特定任务上产生预测结果的模型。\n",
      "\n",
      "5. 模型评估：评估是否达到了需求效果，如果效果不理想，就重新调整参数再次尝试或者更换另一种算法方法、去掉或加入新数据来进行优化\n",
      "\n",
      "6. 模型集成和部署：根据实际情况将机器学习模型整合到具体的应用场景中，可能会经过多个版本甚至持续迭代和更新。\n",
      "\n",
      "7. 在线训练和监控：模型训练完成后，通过不断地接收和分析来自新数据的反馈，可以实现模型在不断接受和适当改进。\n"
     ]
    }
   ],
   "source": [
    "print(response.choices[0].message.content)"
   ]
  },
  {
   "cell_type": "markdown",
   "id": "e6cb98f0-90e4-475b-bec1-c473c3601a40",
   "metadata": {},
   "source": [
    "### 网络请求"
   ]
  },
  {
   "cell_type": "code",
   "execution_count": 25,
   "id": "aed4f6ed-83e4-4975-8ff7-85699e213062",
   "metadata": {
    "execution": {
     "iopub.execute_input": "2024-12-01T08:51:23.753161Z",
     "iopub.status.busy": "2024-12-01T08:51:23.752507Z",
     "iopub.status.idle": "2024-12-01T08:51:23.761743Z",
     "shell.execute_reply": "2024-12-01T08:51:23.759524Z",
     "shell.execute_reply.started": "2024-12-01T08:51:23.753113Z"
    }
   },
   "outputs": [],
   "source": [
    "import requests\n",
    "import json"
   ]
  },
  {
   "cell_type": "code",
   "execution_count": 26,
   "id": "18c1e3d9-dd4e-46ee-964d-20524b50ff27",
   "metadata": {
    "execution": {
     "iopub.execute_input": "2024-12-01T08:51:24.692766Z",
     "iopub.status.busy": "2024-12-01T08:51:24.692200Z",
     "iopub.status.idle": "2024-12-01T08:51:24.701035Z",
     "shell.execute_reply": "2024-12-01T08:51:24.698874Z",
     "shell.execute_reply.started": "2024-12-01T08:51:24.692721Z"
    }
   },
   "outputs": [],
   "source": [
    "payload = {\n",
    "    'model': model,\n",
    "    'messages': messages\n",
    "}"
   ]
  },
  {
   "cell_type": "code",
   "execution_count": 27,
   "id": "0ffe43a3-5b82-48f4-9b48-69e9647111c6",
   "metadata": {
    "execution": {
     "iopub.execute_input": "2024-12-01T08:51:26.195245Z",
     "iopub.status.busy": "2024-12-01T08:51:26.194594Z",
     "iopub.status.idle": "2024-12-01T08:51:32.465042Z",
     "shell.execute_reply": "2024-12-01T08:51:32.463563Z",
     "shell.execute_reply.started": "2024-12-01T08:51:26.195197Z"
    }
   },
   "outputs": [],
   "source": [
    "response = requests.post('http://127.0.0.1:11434/api/chat', json=payload)"
   ]
  },
  {
   "cell_type": "code",
   "execution_count": 28,
   "id": "da841ecb-8d29-4a74-b553-f35479cd0265",
   "metadata": {
    "execution": {
     "iopub.execute_input": "2024-12-01T08:51:33.436474Z",
     "iopub.status.busy": "2024-12-01T08:51:33.435871Z",
     "iopub.status.idle": "2024-12-01T08:51:33.457062Z",
     "shell.execute_reply": "2024-12-01T08:51:33.455336Z",
     "shell.execute_reply.started": "2024-12-01T08:51:33.436428Z"
    }
   },
   "outputs": [
    {
     "name": "stdout",
     "output_type": "stream",
     "text": [
      "机器学习（Machine Learning）是一种计算机算法能通过数据学习和改进，使其能够在没有明确编程指令的情况下进行特定任务的能力。它是人工智能的一个关键方面，旨在使计算机系统能够通过经验、数据和训练获得知识和技能。\n",
      "\n",
      "机器学习的基本原理是让算法从数据中学习模式、关系和决策规则，使其能够预测未来的结果或进行特定的任务。这些算法可以自主地优化参数，改进表现，并在不断接受新数据的情况下不断适应变化。\n",
      "\n",
      "常见的机器学习应用包括：\n",
      "\n",
      "1.分类（Classification）：将输入分组到预定义类别中。\n",
      "2.回归（Regression）：对特定变量进行预测。\n",
      "3.聚类（Clustering）：识别相似数据点之间的模式。\n",
      "4.降维（Dimensionality Reduction）：减少高维空间中的数据复杂性。\n",
      "5.异常检测（Anomaly Detection）：找出不符合标准模式的数据。\n",
      "\n",
      "机器学习有多种类型：\n",
      "\n",
      "1.监督学习：需要标记好的数据集来训练算法。\n",
      "2.无监督学习：没有标记好的数据集，算法自行寻找数据之间的模式。\n",
      "3.强化学习：通过试错和反馈，进行动作选择和决策。\n",
      "\n",
      "机器学习应用广泛于：\n",
      "\n",
      "1.图像识别\n",
      "2.自然语言处理\n",
      "3.预测分析\n",
      "4.推荐系统\n",
      "5.智能交通等领域。"
     ]
    }
   ],
   "source": [
    "for message in response.iter_lines():\n",
    "    jsonstr = json.loads(message)\n",
    "    print(jsonstr['message']['content'], end='')"
   ]
  },
  {
   "cell_type": "markdown",
   "id": "06986311-4ce8-46af-ab55-7b04b0a55047",
   "metadata": {},
   "source": [
    "### function calling"
   ]
  },
  {
   "cell_type": "code",
   "execution_count": null,
   "id": "24559117-1860-4cec-a373-2061890f7083",
   "metadata": {},
   "outputs": [],
   "source": []
  }
 ],
 "metadata": {
  "kernelspec": {
   "display_name": "Python 3 (ipykernel)",
   "language": "python",
   "name": "python3"
  },
  "language_info": {
   "codemirror_mode": {
    "name": "ipython",
    "version": 3
   },
   "file_extension": ".py",
   "mimetype": "text/x-python",
   "name": "python",
   "nbconvert_exporter": "python",
   "pygments_lexer": "ipython3",
   "version": "3.10.0"
  },
  "toc": {
   "base_numbering": 1,
   "nav_menu": {},
   "number_sections": true,
   "sideBar": true,
   "skip_h1_title": false,
   "title_cell": "Table of Contents",
   "title_sidebar": "Contents",
   "toc_cell": false,
   "toc_position": {},
   "toc_section_display": true,
   "toc_window_display": false
  }
 },
 "nbformat": 4,
 "nbformat_minor": 5
}
