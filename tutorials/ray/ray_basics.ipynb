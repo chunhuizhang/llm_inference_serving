{
 "cells": [
  {
   "cell_type": "markdown",
   "id": "b24f93da-5d18-4d89-b1e3-b184323b6278",
   "metadata": {},
   "source": [
    "- https://github.com/volcengine/verl/blob/main/examples/ray/tutorial.ipynb"
   ]
  },
  {
   "cell_type": "code",
   "execution_count": 1,
   "id": "48327910-9454-48f3-8a03-7f560f88b362",
   "metadata": {
    "execution": {
     "iopub.execute_input": "2025-02-13T11:05:29.545549Z",
     "iopub.status.busy": "2025-02-13T11:05:29.545014Z",
     "iopub.status.idle": "2025-02-13T11:05:31.403954Z",
     "shell.execute_reply": "2025-02-13T11:05:31.403077Z",
     "shell.execute_reply.started": "2025-02-13T11:05:29.545506Z"
    }
   },
   "outputs": [],
   "source": [
    "import os\n",
    "import ray\n",
    "import torch\n",
    "import warnings\n",
    "warnings.filterwarnings('ignore')"
   ]
  },
  {
   "cell_type": "markdown",
   "id": "8a0a82e7-8f88-4c92-95cd-83dfcf88a6da",
   "metadata": {},
   "source": [
    "## Chapter 1: Ray Basics"
   ]
  },
  {
   "cell_type": "code",
   "execution_count": 2,
   "id": "e504435b-565d-4c9c-a003-ce0d269b4ac1",
   "metadata": {
    "execution": {
     "iopub.execute_input": "2025-02-13T11:05:31.404783Z",
     "iopub.status.busy": "2025-02-13T11:05:31.404575Z",
     "iopub.status.idle": "2025-02-13T11:05:34.710642Z",
     "shell.execute_reply": "2025-02-13T11:05:34.710060Z",
     "shell.execute_reply.started": "2025-02-13T11:05:31.404770Z"
    }
   },
   "outputs": [
    {
     "name": "stderr",
     "output_type": "stream",
     "text": [
      "2025-02-13 19:05:33,755\tINFO worker.py:1779 -- Started a local Ray instance. View the dashboard at \u001b[1m\u001b[32m127.0.0.1:8265 \u001b[39m\u001b[22m\n"
     ]
    },
    {
     "data": {
      "application/vnd.jupyter.widget-view+json": {
       "model_id": "260814de1e4344dc8baab08422d108db",
       "version_major": 2,
       "version_minor": 0
      },
      "text/html": [
       "<div class=\"lm-Widget p-Widget lm-Panel p-Panel jp-Cell-outputWrapper\">\n",
       "    <div style=\"margin-left: 50px;display: flex;flex-direction: row;align-items: center\">\n",
       "        <div class=\"jp-RenderedHTMLCommon\" style=\"display: flex; flex-direction: row;\">\n",
       "  <svg viewBox=\"0 0 567 224\" fill=\"none\" xmlns=\"http://www.w3.org/2000/svg\" style=\"height: 3em;\">\n",
       "    <g clip-path=\"url(#clip0_4338_178347)\">\n",
       "        <path d=\"M341.29 165.561H355.29L330.13 129.051C345.63 123.991 354.21 112.051 354.21 94.2307C354.21 71.3707 338.72 58.1807 311.88 58.1807H271V165.561H283.27V131.661H311.8C314.25 131.661 316.71 131.501 319.01 131.351L341.25 165.561H341.29ZM283.29 119.851V70.0007H311.82C331.3 70.0007 342.34 78.2907 342.34 94.5507C342.34 111.271 331.34 119.861 311.82 119.861L283.29 119.851ZM451.4 138.411L463.4 165.561H476.74L428.74 58.1807H416L367.83 165.561H380.83L392.83 138.411H451.4ZM446.19 126.601H398L422 72.1407L446.24 126.601H446.19ZM526.11 128.741L566.91 58.1807H554.35L519.99 114.181L485.17 58.1807H472.44L514.01 129.181V165.541H526.13V128.741H526.11Z\" fill=\"var(--jp-ui-font-color0)\"/>\n",
       "        <path d=\"M82.35 104.44C84.0187 97.8827 87.8248 92.0678 93.1671 87.9146C98.5094 83.7614 105.083 81.5067 111.85 81.5067C118.617 81.5067 125.191 83.7614 130.533 87.9146C135.875 92.0678 139.681 97.8827 141.35 104.44H163.75C164.476 101.562 165.622 98.8057 167.15 96.2605L127.45 56.5605C121.071 60.3522 113.526 61.6823 106.235 60.3005C98.9443 58.9187 92.4094 54.9203 87.8602 49.0574C83.3109 43.1946 81.0609 35.8714 81.5332 28.4656C82.0056 21.0599 85.1679 14.0819 90.4252 8.8446C95.6824 3.60726 102.672 0.471508 110.08 0.0272655C117.487 -0.416977 124.802 1.86091 130.647 6.4324C136.493 11.0039 140.467 17.5539 141.821 24.8501C143.175 32.1463 141.816 39.6859 138 46.0505L177.69 85.7505C182.31 82.9877 187.58 81.4995 192.962 81.4375C198.345 81.3755 203.648 82.742 208.33 85.3976C213.012 88.0532 216.907 91.9029 219.616 96.5544C222.326 101.206 223.753 106.492 223.753 111.875C223.753 117.258 222.326 122.545 219.616 127.197C216.907 131.848 213.012 135.698 208.33 138.353C203.648 141.009 198.345 142.375 192.962 142.313C187.58 142.251 182.31 140.763 177.69 138L138 177.7C141.808 184.071 143.155 191.614 141.79 198.91C140.424 206.205 136.44 212.75 130.585 217.313C124.731 221.875 117.412 224.141 110.004 223.683C102.596 223.226 95.6103 220.077 90.3621 214.828C85.1139 209.58 81.9647 202.595 81.5072 195.187C81.0497 187.779 83.3154 180.459 87.878 174.605C92.4405 168.751 98.9853 164.766 106.281 163.401C113.576 162.035 121.119 163.383 127.49 167.19L167.19 127.49C165.664 124.941 164.518 122.182 163.79 119.3H141.39C139.721 125.858 135.915 131.673 130.573 135.826C125.231 139.98 118.657 142.234 111.89 142.234C105.123 142.234 98.5494 139.98 93.2071 135.826C87.8648 131.673 84.0587 125.858 82.39 119.3H60C58.1878 126.495 53.8086 132.78 47.6863 136.971C41.5641 141.163 34.1211 142.972 26.7579 142.059C19.3947 141.146 12.6191 137.574 7.70605 132.014C2.79302 126.454 0.0813599 119.29 0.0813599 111.87C0.0813599 104.451 2.79302 97.2871 7.70605 91.7272C12.6191 86.1673 19.3947 82.5947 26.7579 81.6817C34.1211 80.7686 41.5641 82.5781 47.6863 86.7696C53.8086 90.9611 58.1878 97.2456 60 104.44H82.35ZM100.86 204.32C103.407 206.868 106.759 208.453 110.345 208.806C113.93 209.159 117.527 208.258 120.522 206.256C123.517 204.254 125.725 201.276 126.771 197.828C127.816 194.38 127.633 190.677 126.253 187.349C124.874 184.021 122.383 181.274 119.205 179.577C116.027 177.88 112.359 177.337 108.826 178.042C105.293 178.746 102.113 180.654 99.8291 183.44C97.5451 186.226 96.2979 189.718 96.3 193.32C96.2985 195.364 96.7006 197.388 97.4831 199.275C98.2656 201.163 99.4132 202.877 100.86 204.32ZM204.32 122.88C206.868 120.333 208.453 116.981 208.806 113.396C209.159 109.811 208.258 106.214 206.256 103.219C204.254 100.223 201.275 98.0151 197.827 96.97C194.38 95.9249 190.676 96.1077 187.348 97.4873C184.02 98.8669 181.274 101.358 179.577 104.536C177.879 107.714 177.337 111.382 178.041 114.915C178.746 118.448 180.653 121.627 183.439 123.911C186.226 126.195 189.717 127.443 193.32 127.44C195.364 127.443 197.388 127.042 199.275 126.259C201.163 125.476 202.878 124.328 204.32 122.88ZM122.88 19.4205C120.333 16.8729 116.981 15.2876 113.395 14.9347C109.81 14.5817 106.213 15.483 103.218 17.4849C100.223 19.4868 98.0146 22.4654 96.9696 25.9131C95.9245 29.3608 96.1073 33.0642 97.4869 36.3922C98.8665 39.7202 101.358 42.4668 104.535 44.1639C107.713 45.861 111.381 46.4036 114.914 45.6992C118.447 44.9949 121.627 43.0871 123.911 40.301C126.195 37.515 127.442 34.0231 127.44 30.4205C127.44 28.3772 127.038 26.3539 126.255 24.4664C125.473 22.5788 124.326 20.8642 122.88 19.4205ZM19.42 100.86C16.8725 103.408 15.2872 106.76 14.9342 110.345C14.5813 113.93 15.4826 117.527 17.4844 120.522C19.4863 123.518 22.4649 125.726 25.9127 126.771C29.3604 127.816 33.0638 127.633 36.3918 126.254C39.7198 124.874 42.4664 122.383 44.1635 119.205C45.8606 116.027 46.4032 112.359 45.6988 108.826C44.9944 105.293 43.0866 102.114 40.3006 99.8296C37.5145 97.5455 34.0227 96.2983 30.42 96.3005C26.2938 96.3018 22.337 97.9421 19.42 100.86ZM100.86 100.86C98.3125 103.408 96.7272 106.76 96.3742 110.345C96.0213 113.93 96.9226 117.527 98.9244 120.522C100.926 123.518 103.905 125.726 107.353 126.771C110.8 127.816 114.504 127.633 117.832 126.254C121.16 124.874 123.906 122.383 125.604 119.205C127.301 116.027 127.843 112.359 127.139 108.826C126.434 105.293 124.527 102.114 121.741 99.8296C118.955 97.5455 115.463 96.2983 111.86 96.3005C109.817 96.299 107.793 96.701 105.905 97.4835C104.018 98.2661 102.303 99.4136 100.86 100.86Z\" fill=\"#00AEEF\"/>\n",
       "    </g>\n",
       "    <defs>\n",
       "        <clipPath id=\"clip0_4338_178347\">\n",
       "            <rect width=\"566.93\" height=\"223.75\" fill=\"white\"/>\n",
       "        </clipPath>\n",
       "    </defs>\n",
       "  </svg>\n",
       "</div>\n",
       "\n",
       "        <table class=\"jp-RenderedHTMLCommon\" style=\"border-collapse: collapse;color: var(--jp-ui-font-color1);font-size: var(--jp-ui-font-size1);\">\n",
       "    <tr>\n",
       "        <td style=\"text-align: left\"><b>Python version:</b></td>\n",
       "        <td style=\"text-align: left\"><b>3.10.13</b></td>\n",
       "    </tr>\n",
       "    <tr>\n",
       "        <td style=\"text-align: left\"><b>Ray version:</b></td>\n",
       "        <td style=\"text-align: left\"><b>2.32.0</b></td>\n",
       "    </tr>\n",
       "    <tr>\n",
       "    <td style=\"text-align: left\"><b>Dashboard:</b></td>\n",
       "    <td style=\"text-align: left\"><b><a href=\"http://127.0.0.1:8265\" target=\"_blank\">http://127.0.0.1:8265</a></b></td>\n",
       "</tr>\n",
       "\n",
       "</table>\n",
       "\n",
       "    </div>\n",
       "</div>\n"
      ],
      "text/plain": [
       "RayContext(dashboard_url='127.0.0.1:8265', python_version='3.10.13', ray_version='2.32.0', ray_commit='607f2f30f5f21543b6a5568ee77ea779eeba30a8')"
      ]
     },
     "execution_count": 2,
     "metadata": {},
     "output_type": "execute_result"
    }
   ],
   "source": [
    "# Build a local ray cluster. The head node and worker node are on this machine\n",
    "ray.init()"
   ]
  },
  {
   "cell_type": "code",
   "execution_count": 3,
   "id": "27089b68-42c1-4688-9d02-0b75ea54df58",
   "metadata": {
    "execution": {
     "iopub.execute_input": "2025-02-13T11:05:34.711979Z",
     "iopub.status.busy": "2025-02-13T11:05:34.711461Z",
     "iopub.status.idle": "2025-02-13T11:05:34.716507Z",
     "shell.execute_reply": "2025-02-13T11:05:34.715987Z",
     "shell.execute_reply.started": "2025-02-13T11:05:34.711961Z"
    }
   },
   "outputs": [
    {
     "data": {
      "text/plain": [
       "{'accelerator_type:G': 1.0,\n",
       " 'node:__internal_head__': 1.0,\n",
       " 'node:192.168.101.16': 1.0,\n",
       " 'CPU': 64.0,\n",
       " 'memory': 74039068468.0,\n",
       " 'object_store_memory': 36016743628.0,\n",
       " 'GPU': 2.0}"
      ]
     },
     "execution_count": 3,
     "metadata": {},
     "output_type": "execute_result"
    }
   ],
   "source": [
    "ray.available_resources()"
   ]
  },
  {
   "cell_type": "code",
   "execution_count": 4,
   "id": "3746358b-6cdc-4c8b-bbbc-008584c939b9",
   "metadata": {
    "execution": {
     "iopub.execute_input": "2025-02-13T11:05:34.717280Z",
     "iopub.status.busy": "2025-02-13T11:05:34.717127Z",
     "iopub.status.idle": "2025-02-13T11:05:34.739516Z",
     "shell.execute_reply": "2025-02-13T11:05:34.738722Z",
     "shell.execute_reply.started": "2025-02-13T11:05:34.717268Z"
    }
   },
   "outputs": [],
   "source": [
    "@ray.remote\n",
    "class Accumulator:\n",
    "    def __init__(self):\n",
    "        self.value = 0\n",
    "        \n",
    "    def add(self, x):\n",
    "        self.value += x\n",
    "        \n",
    "    def get_value(self):\n",
    "        return self.value"
   ]
  },
  {
   "cell_type": "code",
   "execution_count": 5,
   "id": "d94d4712-632f-443d-a529-1473c7799d73",
   "metadata": {
    "execution": {
     "iopub.execute_input": "2025-02-13T11:05:34.742446Z",
     "iopub.status.busy": "2025-02-13T11:05:34.741998Z",
     "iopub.status.idle": "2025-02-13T11:05:34.756435Z",
     "shell.execute_reply": "2025-02-13T11:05:34.755503Z",
     "shell.execute_reply.started": "2025-02-13T11:05:34.742426Z"
    }
   },
   "outputs": [],
   "source": [
    "accumulator = Accumulator.remote()"
   ]
  },
  {
   "cell_type": "code",
   "execution_count": 6,
   "id": "2c8a311d-8f30-4aba-815a-7c5c68a175de",
   "metadata": {
    "execution": {
     "iopub.execute_input": "2025-02-13T11:05:34.757360Z",
     "iopub.status.busy": "2025-02-13T11:05:34.757122Z",
     "iopub.status.idle": "2025-02-13T11:05:35.294223Z",
     "shell.execute_reply": "2025-02-13T11:05:35.293300Z",
     "shell.execute_reply.started": "2025-02-13T11:05:34.757340Z"
    }
   },
   "outputs": [
    {
     "name": "stdout",
     "output_type": "stream",
     "text": [
      "0\n"
     ]
    }
   ],
   "source": [
    "value_ref = accumulator.get_value.remote() # Check the current value. Note that this function returns immediately and does not actually wait for the remote execution to complete.\n",
    "# Get the value\n",
    "value = ray.get(value_ref)\n",
    "print(value)"
   ]
  },
  {
   "cell_type": "markdown",
   "id": "dae59fbd-3b90-4862-9e49-de38a5887627",
   "metadata": {},
   "source": [
    "## Chapter 2: Resource Pool and RayWorkerGroup"
   ]
  },
  {
   "cell_type": "markdown",
   "id": "b83cf7e3-3b23-4188-8d60-7250f56c1001",
   "metadata": {},
   "source": [
    "- The principle of **parameter passing**:\n",
    "    - The input parameter is a list of length world_size, where each element in the list is dispatched respectively to each worker in the RayWorkerGroup.\n",
    "    - The return parameter is also a list, corresponding to the return value of each worker."
   ]
  },
  {
   "cell_type": "code",
   "execution_count": 7,
   "id": "0171aefd-6f3f-43a3-8ce5-24ee57b7e3cd",
   "metadata": {
    "execution": {
     "iopub.execute_input": "2025-02-13T11:05:35.295369Z",
     "iopub.status.busy": "2025-02-13T11:05:35.295029Z",
     "iopub.status.idle": "2025-02-13T11:05:36.376499Z",
     "shell.execute_reply": "2025-02-13T11:05:36.375625Z",
     "shell.execute_reply.started": "2025-02-13T11:05:35.295355Z"
    }
   },
   "outputs": [],
   "source": [
    "from verl.single_controller.ray.base import RayResourcePool, RayClassWithInitArgs, RayWorkerGroup, merge_resource_pool\n",
    "from verl.single_controller.base import Worker"
   ]
  },
  {
   "cell_type": "code",
   "execution_count": 8,
   "id": "8e13745b-ae89-4de9-9b91-f72c38b90edd",
   "metadata": {
    "execution": {
     "iopub.execute_input": "2025-02-13T11:05:36.377569Z",
     "iopub.status.busy": "2025-02-13T11:05:36.377204Z",
     "iopub.status.idle": "2025-02-13T11:05:36.381568Z",
     "shell.execute_reply": "2025-02-13T11:05:36.380784Z",
     "shell.execute_reply.started": "2025-02-13T11:05:36.377553Z"
    }
   },
   "outputs": [],
   "source": [
    "resource_pool = RayResourcePool([2], use_gpu=True)"
   ]
  },
  {
   "cell_type": "code",
   "execution_count": 9,
   "id": "79b54edb-97a1-4207-84f2-1cab95ca7666",
   "metadata": {
    "execution": {
     "iopub.execute_input": "2025-02-13T11:05:36.382281Z",
     "iopub.status.busy": "2025-02-13T11:05:36.382143Z",
     "iopub.status.idle": "2025-02-13T11:05:36.399171Z",
     "shell.execute_reply": "2025-02-13T11:05:36.398387Z",
     "shell.execute_reply.started": "2025-02-13T11:05:36.382270Z"
    }
   },
   "outputs": [],
   "source": [
    "@ray.remote\n",
    "class GPUAccumulator(Worker):\n",
    "\n",
    "    def __init__(self) -> None:\n",
    "        super().__init__()\n",
    "        # The initial value of each rank is the same as the rank\n",
    "        self.value = torch.zeros(size=(1,), device='cuda') + self.rank\n",
    "\n",
    "    def add(self, x):\n",
    "        self.value += x\n",
    "        print(f'rank {self.rank}, value: {self.value}')\n",
    "        return self.value.cpu()"
   ]
  },
  {
   "cell_type": "code",
   "execution_count": 10,
   "id": "10a15b52-2fa2-45be-a830-c7afb38461b3",
   "metadata": {
    "execution": {
     "iopub.execute_input": "2025-02-13T11:05:36.399938Z",
     "iopub.status.busy": "2025-02-13T11:05:36.399785Z",
     "iopub.status.idle": "2025-02-13T11:05:36.408296Z",
     "shell.execute_reply": "2025-02-13T11:05:36.407314Z",
     "shell.execute_reply.started": "2025-02-13T11:05:36.399926Z"
    }
   },
   "outputs": [],
   "source": [
    "class_with_args = RayClassWithInitArgs(cls=GPUAccumulator)"
   ]
  },
  {
   "cell_type": "code",
   "execution_count": 11,
   "id": "91ac058d-db77-42d3-bb60-caed38e53c9b",
   "metadata": {
    "execution": {
     "iopub.execute_input": "2025-02-13T11:05:36.409254Z",
     "iopub.status.busy": "2025-02-13T11:05:36.409055Z",
     "iopub.status.idle": "2025-02-13T11:05:40.393350Z",
     "shell.execute_reply": "2025-02-13T11:05:40.392269Z",
     "shell.execute_reply.started": "2025-02-13T11:05:36.409238Z"
    }
   },
   "outputs": [],
   "source": [
    "worker_group = RayWorkerGroup(resource_pool, class_with_args)"
   ]
  },
  {
   "cell_type": "code",
   "execution_count": 12,
   "id": "463cae2f-e713-49f0-80c1-3d03d82f88d9",
   "metadata": {
    "execution": {
     "iopub.execute_input": "2025-02-13T11:05:40.394595Z",
     "iopub.status.busy": "2025-02-13T11:05:40.394201Z",
     "iopub.status.idle": "2025-02-13T11:05:43.528165Z",
     "shell.execute_reply": "2025-02-13T11:05:43.525986Z",
     "shell.execute_reply.started": "2025-02-13T11:05:40.394551Z"
    }
   },
   "outputs": [
    {
     "name": "stdout",
     "output_type": "stream",
     "text": [
      "\u001b[36m(GPUAccumulator pid=164143)\u001b[0m rank 0, value: tensor([1.], device='cuda:0')\n",
      "[tensor([1.]), tensor([3.])]\n"
     ]
    }
   ],
   "source": [
    "print(worker_group.execute_all_sync('add', x=[1, 2]))"
   ]
  },
  {
   "cell_type": "markdown",
   "id": "5f810d7d-47e0-46b1-a8b4-60bd8b0575f8",
   "metadata": {},
   "source": [
    "### GPU Resource Sharing"
   ]
  },
  {
   "cell_type": "code",
   "execution_count": 13,
   "id": "4df33182-be59-4545-a56e-681cd14d870d",
   "metadata": {
    "execution": {
     "iopub.execute_input": "2025-02-13T11:05:43.531924Z",
     "iopub.status.busy": "2025-02-13T11:05:43.530409Z",
     "iopub.status.idle": "2025-02-13T11:05:43.546391Z",
     "shell.execute_reply": "2025-02-13T11:05:43.543724Z",
     "shell.execute_reply.started": "2025-02-13T11:05:43.531867Z"
    }
   },
   "outputs": [],
   "source": [
    "@ray.remote\n",
    "class CPUAccumulator(Worker):\n",
    "    def __init__(self) -> None:\n",
    "        super().__init__()\n",
    "        self.value = torch.zeros(size=(1,)) + self.rank\n",
    "    def add(self, x):\n",
    "        self.value += x\n",
    "        print(f'rank {self.rank}, value: {self.value}')\n",
    "        return self.value"
   ]
  },
  {
   "cell_type": "code",
   "execution_count": 14,
   "id": "d2c837be-88a7-40d7-8934-b3028748bcfd",
   "metadata": {
    "execution": {
     "iopub.execute_input": "2025-02-13T11:05:43.549939Z",
     "iopub.status.busy": "2025-02-13T11:05:43.548572Z",
     "iopub.status.idle": "2025-02-13T11:05:43.594963Z",
     "shell.execute_reply": "2025-02-13T11:05:43.592854Z",
     "shell.execute_reply.started": "2025-02-13T11:05:43.549891Z"
    }
   },
   "outputs": [
    {
     "name": "stdout",
     "output_type": "stream",
     "text": [
      "\u001b[36m(GPUAccumulator pid=165267)\u001b[0m rank 1, value: tensor([3.], device='cuda:0')\n"
     ]
    }
   ],
   "source": [
    "# Create a new resource pool and then merge the newly created resource pool with the previous one.\n",
    "resource_pool_cpu_1 = RayResourcePool([4], use_gpu=False, name_prefix='a')\n",
    "resource_pool_cpu_2 = RayResourcePool([4], use_gpu=False, name_prefix='b')\n",
    "resource_pool_merge = merge_resource_pool(resource_pool_cpu_1, resource_pool_cpu_2)"
   ]
  },
  {
   "cell_type": "code",
   "execution_count": 15,
   "id": "fb48cd2f-e065-45fe-a522-e2b0d281cc19",
   "metadata": {
    "execution": {
     "iopub.execute_input": "2025-02-13T11:05:43.597553Z",
     "iopub.status.busy": "2025-02-13T11:05:43.597030Z",
     "iopub.status.idle": "2025-02-13T11:05:43.604534Z",
     "shell.execute_reply": "2025-02-13T11:05:43.602862Z",
     "shell.execute_reply.started": "2025-02-13T11:05:43.597512Z"
    }
   },
   "outputs": [],
   "source": [
    "class_with_args_cpu = RayClassWithInitArgs(cls=CPUAccumulator)"
   ]
  },
  {
   "cell_type": "code",
   "execution_count": 16,
   "id": "42755651-1781-4efa-92e3-5b40cc6d7c8e",
   "metadata": {
    "execution": {
     "iopub.execute_input": "2025-02-13T11:05:43.606842Z",
     "iopub.status.busy": "2025-02-13T11:05:43.606311Z",
     "iopub.status.idle": "2025-02-13T11:05:52.102221Z",
     "shell.execute_reply": "2025-02-13T11:05:52.100194Z",
     "shell.execute_reply.started": "2025-02-13T11:05:43.606786Z"
    }
   },
   "outputs": [],
   "source": [
    "# Establish a RayWorkerGroup on the newly created resource pool.\n",
    "worker_group_1 = RayWorkerGroup(resource_pool_cpu_1, class_with_args_cpu)\n",
    "worker_group_merge = RayWorkerGroup(resource_pool_merge, class_with_args_cpu)"
   ]
  },
  {
   "cell_type": "code",
   "execution_count": 17,
   "id": "781f699d-d634-4de6-a346-221e5f33c9c6",
   "metadata": {
    "execution": {
     "iopub.execute_input": "2025-02-13T11:05:52.111374Z",
     "iopub.status.busy": "2025-02-13T11:05:52.110754Z",
     "iopub.status.idle": "2025-02-13T11:05:52.279917Z",
     "shell.execute_reply": "2025-02-13T11:05:52.277517Z",
     "shell.execute_reply.started": "2025-02-13T11:05:52.111328Z"
    }
   },
   "outputs": [
    {
     "name": "stdout",
     "output_type": "stream",
     "text": [
      "\u001b[36m(CPUAccumulator pid=165418)\u001b[0m rank 0, value: tensor([2.])\n"
     ]
    },
    {
     "data": {
      "text/plain": [
       "[tensor([2.]), tensor([3.]), tensor([4.]), tensor([5.])]"
      ]
     },
     "execution_count": 17,
     "metadata": {},
     "output_type": "execute_result"
    }
   ],
   "source": [
    "output_1 = worker_group_1.execute_all_sync('add', x=[2, 2, 2, 2])\n",
    "output_1"
   ]
  },
  {
   "cell_type": "code",
   "execution_count": 18,
   "id": "8a56f5b6-2037-4a2c-8835-53934bd88603",
   "metadata": {
    "execution": {
     "iopub.execute_input": "2025-02-13T11:07:11.704431Z",
     "iopub.status.busy": "2025-02-13T11:07:11.704118Z",
     "iopub.status.idle": "2025-02-13T11:07:11.863011Z",
     "shell.execute_reply": "2025-02-13T11:07:11.860733Z",
     "shell.execute_reply.started": "2025-02-13T11:07:11.704409Z"
    }
   },
   "outputs": [
    {
     "name": "stdout",
     "output_type": "stream",
     "text": [
      "\u001b[36m(CPUAccumulator pid=165641)\u001b[0m rank 0, value: tensor([3.])\n",
      "\u001b[36m(CPUAccumulator pid=166079)\u001b[0m rank 7, value: tensor([10.])\n"
     ]
    }
   ],
   "source": [
    "output_merge = worker_group_merge.execute_all_sync('add', x=[3,3,3,3,3,3,3,3])"
   ]
  },
  {
   "cell_type": "code",
   "execution_count": 19,
   "id": "fb1a8699-b244-4899-9e6c-3bc6c156cded",
   "metadata": {
    "execution": {
     "iopub.execute_input": "2025-02-13T11:07:24.993241Z",
     "iopub.status.busy": "2025-02-13T11:07:24.992551Z",
     "iopub.status.idle": "2025-02-13T11:07:25.011680Z",
     "shell.execute_reply": "2025-02-13T11:07:25.009279Z",
     "shell.execute_reply.started": "2025-02-13T11:07:24.993193Z"
    }
   },
   "outputs": [
    {
     "data": {
      "text/plain": [
       "[tensor([3.]),\n",
       " tensor([4.]),\n",
       " tensor([5.]),\n",
       " tensor([6.]),\n",
       " tensor([7.]),\n",
       " tensor([8.]),\n",
       " tensor([9.]),\n",
       " tensor([10.])]"
      ]
     },
     "execution_count": 19,
     "metadata": {},
     "output_type": "execute_result"
    }
   ],
   "source": [
    "output_merge"
   ]
  },
  {
   "cell_type": "code",
   "execution_count": 20,
   "id": "67a89524-2646-4c46-bb50-74d7f8ea2257",
   "metadata": {
    "execution": {
     "iopub.execute_input": "2025-02-13T11:07:50.041242Z",
     "iopub.status.busy": "2025-02-13T11:07:50.040635Z",
     "iopub.status.idle": "2025-02-13T11:07:50.054416Z",
     "shell.execute_reply": "2025-02-13T11:07:50.052291Z",
     "shell.execute_reply.started": "2025-02-13T11:07:50.041195Z"
    }
   },
   "outputs": [
    {
     "data": {
      "text/plain": [
       "(2, 4, 8)"
      ]
     },
     "execution_count": 20,
     "metadata": {},
     "output_type": "execute_result"
    }
   ],
   "source": [
    "worker_group.world_size, worker_group_1.world_size, worker_group_merge.world_size"
   ]
  },
  {
   "cell_type": "markdown",
   "id": "158a0e99-a9ff-4e15-b452-36fec2efc80b",
   "metadata": {},
   "source": [
    "## Chapter 3: Data Dispatch, Execution and Collection"
   ]
  },
  {
   "cell_type": "markdown",
   "id": "bcafb754-bc0d-4cd0-98d1-1f3e284712dd",
   "metadata": {},
   "source": [
    "In the above example, we used the `execute_all_sync` function in the RayWorkerGroup to dispatch data from the driver to each worker. This is very inconvenient for coding. In this chapter, we use the form of function decorators to allow RayWorkerGroup to directly call functions written in the Worker, and to greatly **simplify parameter passing**."
   ]
  },
  {
   "cell_type": "code",
   "execution_count": 21,
   "id": "290edd49-010d-44bd-b17e-456cc3f1b9e6",
   "metadata": {
    "execution": {
     "iopub.execute_input": "2025-02-13T11:09:58.242480Z",
     "iopub.status.busy": "2025-02-13T11:09:58.241870Z",
     "iopub.status.idle": "2025-02-13T11:09:58.252136Z",
     "shell.execute_reply": "2025-02-13T11:09:58.249684Z",
     "shell.execute_reply.started": "2025-02-13T11:09:58.242433Z"
    }
   },
   "outputs": [],
   "source": [
    "from verl.single_controller.base.decorator import register, Dispatch, Execute"
   ]
  },
  {
   "cell_type": "code",
   "execution_count": 22,
   "id": "4b16dbb4-cc50-4dca-a67d-e0ddfdf022d9",
   "metadata": {
    "execution": {
     "iopub.execute_input": "2025-02-13T11:10:10.890889Z",
     "iopub.status.busy": "2025-02-13T11:10:10.890212Z",
     "iopub.status.idle": "2025-02-13T11:10:10.907732Z",
     "shell.execute_reply": "2025-02-13T11:10:10.905241Z",
     "shell.execute_reply.started": "2025-02-13T11:10:10.890841Z"
    }
   },
   "outputs": [],
   "source": [
    "@ray.remote\n",
    "class GPUAccumulatorDecorator(Worker):\n",
    "\n",
    "    def __init__(self) -> None:\n",
    "        super().__init__()\n",
    "        # The initial value of each rank is the same as the rank\n",
    "        self.value = torch.zeros(size=(1,), device='cuda') + self.rank\n",
    "    \n",
    "    # map from a single input to all the worker\n",
    "    @register(Dispatch.ONE_TO_ALL)\n",
    "    def add(self, x):\n",
    "        print(x)\n",
    "        self.value = self.value + x\n",
    "        print(f'rank {self.rank}, value: {self.value}')\n",
    "        return self.value.cpu()"
   ]
  },
  {
   "cell_type": "code",
   "execution_count": 23,
   "id": "b9b6d9f8-0532-47f9-ad6f-3bdeffecef63",
   "metadata": {
    "execution": {
     "iopub.execute_input": "2025-02-13T11:10:39.355951Z",
     "iopub.status.busy": "2025-02-13T11:10:39.355282Z",
     "iopub.status.idle": "2025-02-13T11:10:44.381452Z",
     "shell.execute_reply": "2025-02-13T11:10:44.379682Z",
     "shell.execute_reply.started": "2025-02-13T11:10:39.355903Z"
    }
   },
   "outputs": [],
   "source": [
    "class_with_args = RayClassWithInitArgs(cls=GPUAccumulatorDecorator)\n",
    "gpu_accumulator_decorator = RayWorkerGroup(resource_pool, class_with_args)"
   ]
  },
  {
   "cell_type": "code",
   "execution_count": 24,
   "id": "03e9a8b4-e6f9-43ac-9bf7-69c31641f534",
   "metadata": {
    "execution": {
     "iopub.execute_input": "2025-02-13T11:10:53.070665Z",
     "iopub.status.busy": "2025-02-13T11:10:53.070021Z",
     "iopub.status.idle": "2025-02-13T11:10:53.329609Z",
     "shell.execute_reply": "2025-02-13T11:10:53.327875Z",
     "shell.execute_reply.started": "2025-02-13T11:10:53.070615Z"
    }
   },
   "outputs": [
    {
     "name": "stdout",
     "output_type": "stream",
     "text": [
      "\u001b[36m(GPUAccumulatorDecorator pid=171441)\u001b[0m 10\n",
      "\u001b[36m(GPUAccumulatorDecorator pid=171441)\u001b[0m rank 0, value: tensor([10.], device='cuda:0')\n",
      "\u001b[36m(GPUAccumulatorDecorator pid=171663)\u001b[0m 10\n",
      "[tensor([10.]), tensor([11.])]\n",
      "\u001b[36m(GPUAccumulatorDecorator pid=171663)\u001b[0m rank 1, value: tensor([11.], device='cuda:0')\n"
     ]
    }
   ],
   "source": [
    "print(gpu_accumulator_decorator.add(x=10))"
   ]
  },
  {
   "cell_type": "code",
   "execution_count": null,
   "id": "2d531ab7-78e7-4fc8-851e-92e244b975d9",
   "metadata": {},
   "outputs": [],
   "source": []
  }
 ],
 "metadata": {
  "kernelspec": {
   "display_name": "Python 3 (ipykernel)",
   "language": "python",
   "name": "python3"
  },
  "language_info": {
   "codemirror_mode": {
    "name": "ipython",
    "version": 3
   },
   "file_extension": ".py",
   "mimetype": "text/x-python",
   "name": "python",
   "nbconvert_exporter": "python",
   "pygments_lexer": "ipython3",
   "version": "3.10.13"
  }
 },
 "nbformat": 4,
 "nbformat_minor": 5
}
