{
 "cells": [
  {
   "cell_type": "code",
   "execution_count": 1,
   "id": "bb7b6ef3-3ecc-4587-873d-6d74b287c5e1",
   "metadata": {
    "execution": {
     "iopub.execute_input": "2025-02-22T15:18:28.752402Z",
     "iopub.status.busy": "2025-02-22T15:18:28.751736Z",
     "iopub.status.idle": "2025-02-22T15:18:33.376139Z",
     "shell.execute_reply": "2025-02-22T15:18:33.374680Z",
     "shell.execute_reply.started": "2025-02-22T15:18:28.752352Z"
    }
   },
   "outputs": [],
   "source": [
    "from IPython.display import Image\n",
    "import torch\n",
    "from transformers import GPT2LMHeadModel, GPT2Tokenizer"
   ]
  },
  {
   "cell_type": "code",
   "execution_count": 48,
   "id": "b7ab1c68-1d5f-49dd-9420-1cc0ddbc1d85",
   "metadata": {
    "execution": {
     "iopub.execute_input": "2024-07-01T14:47:05.035140Z",
     "iopub.status.busy": "2024-07-01T14:47:05.034562Z",
     "iopub.status.idle": "2024-07-01T14:47:05.043544Z",
     "shell.execute_reply": "2024-07-01T14:47:05.041538Z",
     "shell.execute_reply.started": "2024-07-01T14:47:05.035094Z"
    }
   },
   "outputs": [],
   "source": [
    "import os\n",
    "os.environ['http_proxy'] = 'http://127.0.0.1:7890'\n",
    "os.environ['https_proxy'] = 'http://127.0.0.1:7890'"
   ]
  },
  {
   "cell_type": "markdown",
   "id": "123656cb-df81-4e71-9cf1-693683670b47",
   "metadata": {},
   "source": [
    "- metircs\n",
    "    - requests per second\n",
    "    - latency\n",
    "- techniques\n",
    "    - kv cache：每一个 transformer layer；\n",
    "        - efficient management of KV cache is crucial for high-throughout LLM serving\n",
    "- references\n",
    "    - https://www.youtube.com/watch?v=5ZlavKF_98U"
   ]
  },
  {
   "cell_type": "markdown",
   "id": "65fc31ea-c288-4ba4-bdc3-41b8ad36d4b1",
   "metadata": {},
   "source": [
    "## KV cache"
   ]
  },
  {
   "cell_type": "code",
   "execution_count": 2,
   "id": "f001160d-1385-4d8f-9bce-01bb3b6ecf75",
   "metadata": {
    "execution": {
     "iopub.execute_input": "2025-02-22T15:18:37.451005Z",
     "iopub.status.busy": "2025-02-22T15:18:37.450540Z",
     "iopub.status.idle": "2025-02-22T15:18:37.463889Z",
     "shell.execute_reply": "2025-02-22T15:18:37.461865Z",
     "shell.execute_reply.started": "2025-02-22T15:18:37.450980Z"
    }
   },
   "outputs": [
    {
     "data": {
      "text/html": [
       "<img src=\"../imgs/para_kvcache.png\" width=\"500\"/>"
      ],
      "text/plain": [
       "<IPython.core.display.Image object>"
      ]
     },
     "execution_count": 2,
     "metadata": {},
     "output_type": "execute_result"
    }
   ],
   "source": [
    "Image(url='../imgs/para_kvcache.png', width=500)"
   ]
  },
  {
   "cell_type": "markdown",
   "id": "0fbbf190-c5c4-4e50-978a-d0ad902963b4",
   "metadata": {},
   "source": [
    "- 13B * 2 = 26GB\n",
    "    - B: billion\n",
    "    - 2: fp16\n",
    "- kv cache\n",
    "\n",
    "    $$\n",
    "    2 \\times \\text{precision} \\times n_{\\text{layers}} \\times d_{\\text{model}} \\times \\text{seqlen} \\times \\text{batch}\n",
    "    $$\n",
    "  - OPT-30B: $2*2*48*7168*1024*128/(1024^3)=168$ (GB)\n",
    "      - 7168 = 1024*7\n",
    "  - batch size 对应着可以同时处理的请求的数量，`# requests`"
   ]
  },
  {
   "cell_type": "code",
   "execution_count": 12,
   "id": "56881bfb-c904-48d8-a7ee-d7d5f8d886fd",
   "metadata": {
    "execution": {
     "iopub.execute_input": "2024-07-01T14:11:04.284692Z",
     "iopub.status.busy": "2024-07-01T14:11:04.284035Z",
     "iopub.status.idle": "2024-07-01T14:11:07.713555Z",
     "shell.execute_reply": "2024-07-01T14:11:07.712931Z",
     "shell.execute_reply.started": "2024-07-01T14:11:04.284643Z"
    }
   },
   "outputs": [],
   "source": [
    "model_name = 'gpt2-xl'  # 替换为你的模型名称\n",
    "tokenizer = GPT2Tokenizer.from_pretrained(model_name)\n",
    "model = GPT2LMHeadModel.from_pretrained(model_name)\n",
    "\n",
    "inputs = tokenizer(\"Hello, how are you?\", return_tensors=\"pt\")\n",
    "outputs = model(**inputs, output_hidden_states=True, output_attentions=True)"
   ]
  },
  {
   "cell_type": "code",
   "execution_count": 13,
   "id": "9b6ed6b3-723d-4e70-856e-079988fe7257",
   "metadata": {
    "execution": {
     "iopub.execute_input": "2024-07-01T14:11:07.714840Z",
     "iopub.status.busy": "2024-07-01T14:11:07.714630Z",
     "iopub.status.idle": "2024-07-01T14:11:07.894999Z",
     "shell.execute_reply": "2024-07-01T14:11:07.893781Z",
     "shell.execute_reply.started": "2024-07-01T14:11:07.714823Z"
    }
   },
   "outputs": [
    {
     "data": {
      "text/plain": [
       "'KV Cache size: 3.515625 MB'"
      ]
     },
     "execution_count": 13,
     "metadata": {},
     "output_type": "execute_result"
    }
   ],
   "source": [
    "kv_cache = outputs.past_key_values\n",
    "total_kv_cache_size = sum([kv.nelement() * kv.element_size() for layer in kv_cache for kv in layer])\n",
    "\n",
    "f\"KV Cache size: {total_kv_cache_size / (1024 ** 2)} MB\""
   ]
  },
  {
   "cell_type": "code",
   "execution_count": 38,
   "id": "64c42162-3d55-43c7-b8fe-ea3c12837702",
   "metadata": {
    "execution": {
     "iopub.execute_input": "2024-07-01T14:20:59.315203Z",
     "iopub.status.busy": "2024-07-01T14:20:59.314572Z",
     "iopub.status.idle": "2024-07-01T14:20:59.332590Z",
     "shell.execute_reply": "2024-07-01T14:20:59.330597Z",
     "shell.execute_reply.started": "2024-07-01T14:20:59.315156Z"
    }
   },
   "outputs": [
    {
     "data": {
      "text/plain": [
       "1557611200"
      ]
     },
     "execution_count": 38,
     "metadata": {},
     "output_type": "execute_result"
    }
   ],
   "source": [
    "# 1.5B\n",
    "sum(p.numel() for p in model.parameters())"
   ]
  },
  {
   "cell_type": "code",
   "execution_count": 43,
   "id": "8df492f9-d3ff-4e53-ada1-c421a654a713",
   "metadata": {
    "execution": {
     "iopub.execute_input": "2024-07-01T14:44:52.029086Z",
     "iopub.status.busy": "2024-07-01T14:44:52.028441Z",
     "iopub.status.idle": "2024-07-01T14:44:52.037271Z",
     "shell.execute_reply": "2024-07-01T14:44:52.035064Z",
     "shell.execute_reply.started": "2024-07-01T14:44:52.029037Z"
    }
   },
   "outputs": [],
   "source": [
    "# model.config"
   ]
  },
  {
   "cell_type": "code",
   "execution_count": 24,
   "id": "30a0b15c-16c8-4e96-b4fb-fb8fa0bf3273",
   "metadata": {
    "execution": {
     "iopub.execute_input": "2024-07-01T14:14:30.971760Z",
     "iopub.status.busy": "2024-07-01T14:14:30.971168Z",
     "iopub.status.idle": "2024-07-01T14:14:30.985011Z",
     "shell.execute_reply": "2024-07-01T14:14:30.982905Z",
     "shell.execute_reply.started": "2024-07-01T14:14:30.971713Z"
    }
   },
   "outputs": [
    {
     "data": {
      "text/plain": [
       "{'input_ids': tensor([[15496,    11,   703,   389,   345,    30]]), 'attention_mask': tensor([[1, 1, 1, 1, 1, 1]])}"
      ]
     },
     "execution_count": 24,
     "metadata": {},
     "output_type": "execute_result"
    }
   ],
   "source": [
    "inputs"
   ]
  },
  {
   "cell_type": "code",
   "execution_count": 34,
   "id": "df87f87c-5d42-4e7b-bf0a-3acd62c62d4c",
   "metadata": {
    "execution": {
     "iopub.execute_input": "2024-07-01T14:18:51.598653Z",
     "iopub.status.busy": "2024-07-01T14:18:51.598020Z",
     "iopub.status.idle": "2024-07-01T14:18:51.611237Z",
     "shell.execute_reply": "2024-07-01T14:18:51.609100Z",
     "shell.execute_reply.started": "2024-07-01T14:18:51.598605Z"
    }
   },
   "outputs": [
    {
     "data": {
      "text/plain": [
       "3.515625"
      ]
     },
     "execution_count": 34,
     "metadata": {},
     "output_type": "execute_result"
    }
   ],
   "source": [
    "2 * 4 * 48 * 1600 * 6 * 1 / (1024 * 1024)"
   ]
  },
  {
   "cell_type": "code",
   "execution_count": 35,
   "id": "5afafd0e-cb18-448f-8e47-5409ab745e1c",
   "metadata": {
    "execution": {
     "iopub.execute_input": "2024-07-01T14:19:09.395228Z",
     "iopub.status.busy": "2024-07-01T14:19:09.394929Z",
     "iopub.status.idle": "2024-07-01T14:19:09.404604Z",
     "shell.execute_reply": "2024-07-01T14:19:09.402526Z",
     "shell.execute_reply.started": "2024-07-01T14:19:09.395206Z"
    }
   },
   "outputs": [
    {
     "data": {
      "text/plain": [
       "torch.Size([1, 25, 6, 64])"
      ]
     },
     "execution_count": 35,
     "metadata": {},
     "output_type": "execute_result"
    }
   ],
   "source": [
    "# (bs, n_head, seq_ken, head_dim)\n",
    "kv_cache[0][0].shape"
   ]
  },
  {
   "cell_type": "markdown",
   "id": "30ef8890-3d2e-47d2-8aac-9462319d949d",
   "metadata": {},
   "source": [
    "### Memory waste in KV cache"
   ]
  },
  {
   "cell_type": "code",
   "execution_count": 53,
   "id": "ac35a12b-43fc-4e1c-a15e-1baad1e987f8",
   "metadata": {
    "execution": {
     "iopub.execute_input": "2024-07-01T14:50:30.381483Z",
     "iopub.status.busy": "2024-07-01T14:50:30.380833Z",
     "iopub.status.idle": "2024-07-01T14:50:30.393276Z",
     "shell.execute_reply": "2024-07-01T14:50:30.391102Z",
     "shell.execute_reply.started": "2024-07-01T14:50:30.381433Z"
    }
   },
   "outputs": [
    {
     "data": {
      "text/html": [
       "<img src=\"../imgs/kv_cache_internal_frag.png\" width=\"500\"/>"
      ],
      "text/plain": [
       "<IPython.core.display.Image object>"
      ]
     },
     "execution_count": 53,
     "metadata": {},
     "output_type": "execute_result"
    }
   ],
   "source": [
    "# 2048 的 context window\n",
    "Image(url='../imgs/kv_cache_internal_frag.png', width=500)"
   ]
  },
  {
   "cell_type": "markdown",
   "id": "3807a21c-4eb7-48bf-b417-593f47ea3299",
   "metadata": {},
   "source": [
    "## vLLM: Efficient memory management for LLM inference"
   ]
  },
  {
   "cell_type": "markdown",
   "id": "3dba9762-2e3a-4c2c-ba56-d5677e2bb134",
   "metadata": {},
   "source": [
    "- inspired by virtual memory & paging\n",
    "    - https://arxiv.org/pdf/2309.06180\n",
    "- Illustration of the PagedAttention algorithm, where the attention key and values vectors are stored as **non-contiguous blocks** in the memory.\n",
    "- details\n",
    "    - logical vs. physical\n",
    "        - logical: adjacent，逻辑或者叫虚拟，非物理的；\n",
    "        - physical：not adjacent\n",
    "            - allocated on demand\n",
    "        - block table\n",
    "    - serving multiple requests\n",
    "- 何以体现 Efficient memory\n",
    "    - minimal internal fragmentation\n",
    "        - 内部内存碎片只存在于 last block of seq (block allocated on demand, block 按需分配)\n",
    "        - num wasted tokens /  seq < block size\n",
    "            - sequences: O(100)-O(10000) tokens\n",
    "            - block size: 16 or 32 tokens"
   ]
  },
  {
   "cell_type": "code",
   "execution_count": 54,
   "id": "c51741e6-6b0f-44d9-84db-b0ee8bbe44b0",
   "metadata": {
    "execution": {
     "iopub.execute_input": "2024-07-01T14:55:08.783753Z",
     "iopub.status.busy": "2024-07-01T14:55:08.783151Z",
     "iopub.status.idle": "2024-07-01T14:55:08.795305Z",
     "shell.execute_reply": "2024-07-01T14:55:08.793534Z",
     "shell.execute_reply.started": "2024-07-01T14:55:08.783704Z"
    }
   },
   "outputs": [
    {
     "data": {
      "text/html": [
       "<img src=\"../imgs/paging.png\" width=\"400\"/>"
      ],
      "text/plain": [
       "<IPython.core.display.Image object>"
      ]
     },
     "execution_count": 54,
     "metadata": {},
     "output_type": "execute_result"
    }
   ],
   "source": [
    "Image(url='../imgs/paging.png', width=400)"
   ]
  },
  {
   "cell_type": "code",
   "execution_count": 57,
   "id": "a9770824-3843-4e73-bd50-0c12dfc38531",
   "metadata": {
    "execution": {
     "iopub.execute_input": "2024-07-01T15:02:29.433004Z",
     "iopub.status.busy": "2024-07-01T15:02:29.432428Z",
     "iopub.status.idle": "2024-07-01T15:02:29.445281Z",
     "shell.execute_reply": "2024-07-01T15:02:29.443151Z",
     "shell.execute_reply.started": "2024-07-01T15:02:29.432956Z"
    }
   },
   "outputs": [
    {
     "data": {
      "text/html": [
       "<img src=\"../imgs/page_attention.gif\" width=\"500\"/>"
      ],
      "text/plain": [
       "<IPython.core.display.Image object>"
      ]
     },
     "execution_count": 57,
     "metadata": {},
     "output_type": "execute_result"
    }
   ],
   "source": [
    "Image(url='../imgs/page_attention.gif', width=500)"
   ]
  },
  {
   "cell_type": "code",
   "execution_count": 59,
   "id": "bf32cfeb-2d82-42c4-9459-f7006a5e666d",
   "metadata": {
    "execution": {
     "iopub.execute_input": "2024-07-01T15:10:38.594557Z",
     "iopub.status.busy": "2024-07-01T15:10:38.593951Z",
     "iopub.status.idle": "2024-07-01T15:10:38.605938Z",
     "shell.execute_reply": "2024-07-01T15:10:38.603768Z",
     "shell.execute_reply.started": "2024-07-01T15:10:38.594510Z"
    }
   },
   "outputs": [
    {
     "data": {
      "text/html": [
       "<img src=\"../imgs/page_attention_gen.gif\" width=\"500\"/>"
      ],
      "text/plain": [
       "<IPython.core.display.Image object>"
      ]
     },
     "execution_count": 59,
     "metadata": {},
     "output_type": "execute_result"
    }
   ],
   "source": [
    "Image(url='../imgs/page_attention_gen.gif', width=500)"
   ]
  },
  {
   "cell_type": "code",
   "execution_count": 60,
   "id": "bd675990-6e16-4195-b800-553a982615a6",
   "metadata": {
    "execution": {
     "iopub.execute_input": "2024-07-01T15:18:11.195221Z",
     "iopub.status.busy": "2024-07-01T15:18:11.194610Z",
     "iopub.status.idle": "2024-07-01T15:18:11.208267Z",
     "shell.execute_reply": "2024-07-01T15:18:11.206023Z",
     "shell.execute_reply.started": "2024-07-01T15:18:11.195170Z"
    }
   },
   "outputs": [
    {
     "data": {
      "text/html": [
       "<img src=\"../imgs/serving_multiple_req.png\" width=\"400\"/>"
      ],
      "text/plain": [
       "<IPython.core.display.Image object>"
      ]
     },
     "execution_count": 60,
     "metadata": {},
     "output_type": "execute_result"
    }
   ],
   "source": [
    "Image(url='../imgs/serving_multiple_req.png', width=400)"
   ]
  },
  {
   "cell_type": "markdown",
   "id": "b6f9297f-d764-4ece-b11b-17baaf227bad",
   "metadata": {},
   "source": [
    "### parallel sampling"
   ]
  },
  {
   "cell_type": "markdown",
   "id": "1ab1166f-b254-445d-848a-9e7d192768c9",
   "metadata": {},
   "source": [
    "- dynamic block mapping enables sharing"
   ]
  },
  {
   "cell_type": "code",
   "execution_count": 61,
   "id": "98f6ec0c-b2f3-4a76-9a78-151897789cae",
   "metadata": {
    "execution": {
     "iopub.execute_input": "2024-07-01T15:23:07.774498Z",
     "iopub.status.busy": "2024-07-01T15:23:07.773890Z",
     "iopub.status.idle": "2024-07-01T15:23:07.786261Z",
     "shell.execute_reply": "2024-07-01T15:23:07.784109Z",
     "shell.execute_reply.started": "2024-07-01T15:23:07.774449Z"
    }
   },
   "outputs": [
    {
     "data": {
      "text/html": [
       "<img src=\"../imgs/multi_outputs.gif\" width=\"500\"/>"
      ],
      "text/plain": [
       "<IPython.core.display.Image object>"
      ]
     },
     "execution_count": 61,
     "metadata": {},
     "output_type": "execute_result"
    }
   ],
   "source": [
    "Image(url='../imgs/multi_outputs.gif', width=500)"
   ]
  },
  {
   "cell_type": "code",
   "execution_count": 62,
   "id": "ba1f4ff8-c961-4a74-aeaf-60940ea5aa88",
   "metadata": {
    "execution": {
     "iopub.execute_input": "2024-07-01T15:27:26.689692Z",
     "iopub.status.busy": "2024-07-01T15:27:26.689104Z",
     "iopub.status.idle": "2024-07-01T15:27:26.701756Z",
     "shell.execute_reply": "2024-07-01T15:27:26.699659Z",
     "shell.execute_reply.started": "2024-07-01T15:27:26.689643Z"
    }
   },
   "outputs": [
    {
     "data": {
      "text/html": [
       "<img src=\"../imgs/page_attention_gen.gif\" width=\"500\"/>"
      ],
      "text/plain": [
       "<IPython.core.display.Image object>"
      ]
     },
     "execution_count": 62,
     "metadata": {},
     "output_type": "execute_result"
    }
   ],
   "source": [
    "Image(url='../imgs/page_attention_gen.gif', width=500)"
   ]
  }
 ],
 "metadata": {
  "kernelspec": {
   "display_name": "Python 3 (ipykernel)",
   "language": "python",
   "name": "python3"
  },
  "language_info": {
   "codemirror_mode": {
    "name": "ipython",
    "version": 3
   },
   "file_extension": ".py",
   "mimetype": "text/x-python",
   "name": "python",
   "nbconvert_exporter": "python",
   "pygments_lexer": "ipython3",
   "version": "3.10.13"
  }
 },
 "nbformat": 4,
 "nbformat_minor": 5
}
