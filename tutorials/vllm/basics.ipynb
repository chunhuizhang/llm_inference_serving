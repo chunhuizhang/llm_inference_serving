{
 "cells": [
  {
   "cell_type": "markdown",
   "id": "a8a972a1-d7df-460e-953b-da9b60174a9f",
   "metadata": {},
   "source": [
    "- `gpu_memory_utilization`\n",
    "    - Weights\n",
    "    - activation\n",
    "    - kv cache\n",
    "- advanced parameters\n",
    "    - dynamic split fuse 默认 able（除非 disable）\n",
    "    - 开启之后，可以显著提升 TTFT（time to first token）"
   ]
  },
  {
   "cell_type": "markdown",
   "id": "56bd35f6-ad95-439b-9517-ea3a851096cb",
   "metadata": {},
   "source": [
    "## quant"
   ]
  },
  {
   "cell_type": "markdown",
   "id": "f875d6e5-4388-40fa-a58e-46783dd8f6e6",
   "metadata": {},
   "source": [
    "- vllm vs. ollama\n",
    "    - vllm: awq, gptq\n",
    "    - ollama: gguf"
   ]
  },
  {
   "cell_type": "markdown",
   "id": "6b7c69d7-b4b6-4f5c-924d-f6c8d4c82311",
   "metadata": {},
   "source": [
    "## benchmark_serving.py"
   ]
  },
  {
   "cell_type": "markdown",
   "id": "e6e7600d-b863-4b13-9778-ace59ac0d71f",
   "metadata": {},
   "source": [
    "- benchmark metircs\n",
    "    - ttft: time to first token"
   ]
  }
 ],
 "metadata": {
  "kernelspec": {
   "display_name": "Python 3 (ipykernel)",
   "language": "python",
   "name": "python3"
  },
  "language_info": {
   "codemirror_mode": {
    "name": "ipython",
    "version": 3
   },
   "file_extension": ".py",
   "mimetype": "text/x-python",
   "name": "python",
   "nbconvert_exporter": "python",
   "pygments_lexer": "ipython3",
   "version": "3.10.13"
  }
 },
 "nbformat": 4,
 "nbformat_minor": 5
}
