{
 "cells": [
  {
   "cell_type": "markdown",
   "id": "e90889eb-b41d-4b81-975c-390cced67cdf",
   "metadata": {},
   "source": [
    "- 671B, 37B activated, 128k context\n",
    "- https://www.freedidi.com/18453.html"
   ]
  },
  {
   "cell_type": "markdown",
   "id": "d3a87949-4f20-4d01-a735-d7f2d6497c8b",
   "metadata": {},
   "source": [
    "### ollama"
   ]
  },
  {
   "cell_type": "markdown",
   "id": "07a74cbe-47d1-4a00-aa16-54545116f76d",
   "metadata": {},
   "source": [
    "```\n",
    "ollama run deepseek-r1:1.5b --verbose\n",
    "```"
   ]
  }
 ],
 "metadata": {
  "kernelspec": {
   "display_name": "casual",
   "language": "python",
   "name": "casual"
  },
  "language_info": {
   "codemirror_mode": {
    "name": "ipython",
    "version": 3
   },
   "file_extension": ".py",
   "mimetype": "text/x-python",
   "name": "python",
   "nbconvert_exporter": "python",
   "pygments_lexer": "ipython3",
   "version": "3.10.0"
  }
 },
 "nbformat": 4,
 "nbformat_minor": 5
}
